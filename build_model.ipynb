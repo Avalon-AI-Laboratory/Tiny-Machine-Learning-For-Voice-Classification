{
 "cells": [
  {
   "cell_type": "markdown",
   "metadata": {},
   "source": [
    "# Implementasi TinyML Pada Arduino Nano 33 BLE Sense Dengan Menggunakan Deep Neural Network Teroptimasi\n",
    "<b>Hatma Suryotrisongko, S.Kom., M.Eng, Ph.D., Kevin Putra Santoso, Rafli Raihan Pramudya</b><br>\n",
    "<i>Institut Teknologi Sepuluh Nopember Surabaya</i><br>\n",
    "<i>Jl. Teknik Kimia, Keputih, Kec. Sukolilo, Kota Sby, Jawa Timur 60111</i>"
   ]
  },
  {
   "cell_type": "markdown",
   "metadata": {},
   "source": [
    "## Mengimpor Library Yang Dibutuhkan"
   ]
  },
  {
   "cell_type": "code",
   "execution_count": 1,
   "metadata": {},
   "outputs": [],
   "source": [
    "import pandas as pd\n",
    "import numpy as np\n",
    "import matplotlib.pyplot as plt\n",
    "import seaborn as sns\n",
    "import tensorflow as tf\n",
    "from sklearn.decomposition import PCA\n",
    "from sklearn.preprocessing import LabelEncoder\n",
    "from tensorflow.keras.utils import to_categorical\n",
    "from sklearn.model_selection import train_test_split\n",
    "from sklearn.metrics import accuracy_score, classification_report, confusion_matrix\n",
    "\n",
    "from tensorflow.keras import Sequential\n",
    "from tensorflow.keras.layers import Input, Dense, Dropout\n",
    "from tensorflow.keras.callbacks import EarlyStopping"
   ]
  },
  {
   "cell_type": "markdown",
   "metadata": {},
   "source": [
    "## Menyiapkan Data"
   ]
  },
  {
   "cell_type": "code",
   "execution_count": 2,
   "metadata": {},
   "outputs": [
    {
     "data": {
      "text/html": [
       "<div>\n",
       "<style scoped>\n",
       "    .dataframe tbody tr th:only-of-type {\n",
       "        vertical-align: middle;\n",
       "    }\n",
       "\n",
       "    .dataframe tbody tr th {\n",
       "        vertical-align: top;\n",
       "    }\n",
       "\n",
       "    .dataframe thead th {\n",
       "        text-align: right;\n",
       "    }\n",
       "</style>\n",
       "<table border=\"1\" class=\"dataframe\">\n",
       "  <thead>\n",
       "    <tr style=\"text-align: right;\">\n",
       "      <th></th>\n",
       "      <th>gender</th>\n",
       "      <th>spectral_centroid</th>\n",
       "      <th>spectral_bandwidth</th>\n",
       "      <th>spectral_rolloff</th>\n",
       "      <th>mfcc1</th>\n",
       "      <th>mfcc2</th>\n",
       "      <th>mfcc3</th>\n",
       "      <th>mfcc4</th>\n",
       "      <th>mfcc5</th>\n",
       "      <th>mfcc6</th>\n",
       "      <th>...</th>\n",
       "      <th>mfcc56</th>\n",
       "      <th>mfcc57</th>\n",
       "      <th>mfcc58</th>\n",
       "      <th>mfcc59</th>\n",
       "      <th>mfcc60</th>\n",
       "      <th>mfcc61</th>\n",
       "      <th>mfcc62</th>\n",
       "      <th>mfcc63</th>\n",
       "      <th>mfcc64</th>\n",
       "      <th>label</th>\n",
       "    </tr>\n",
       "  </thead>\n",
       "  <tbody>\n",
       "    <tr>\n",
       "      <th>0</th>\n",
       "      <td>0.0</td>\n",
       "      <td>1681.532414</td>\n",
       "      <td>1680.805934</td>\n",
       "      <td>3543.630464</td>\n",
       "      <td>-386.69530</td>\n",
       "      <td>58.885944</td>\n",
       "      <td>20.434235</td>\n",
       "      <td>28.430403</td>\n",
       "      <td>-6.543071</td>\n",
       "      <td>-1.804826</td>\n",
       "      <td>...</td>\n",
       "      <td>0.073542</td>\n",
       "      <td>-0.097709</td>\n",
       "      <td>-0.255389</td>\n",
       "      <td>-0.112463</td>\n",
       "      <td>0.346833</td>\n",
       "      <td>0.418975</td>\n",
       "      <td>-0.373270</td>\n",
       "      <td>0.025089</td>\n",
       "      <td>0.428625</td>\n",
       "      <td>twenties</td>\n",
       "    </tr>\n",
       "    <tr>\n",
       "      <th>1</th>\n",
       "      <td>1.0</td>\n",
       "      <td>2020.193756</td>\n",
       "      <td>1424.773657</td>\n",
       "      <td>3422.301136</td>\n",
       "      <td>-268.86496</td>\n",
       "      <td>63.284850</td>\n",
       "      <td>-18.909096</td>\n",
       "      <td>14.215420</td>\n",
       "      <td>2.823777</td>\n",
       "      <td>-4.745179</td>\n",
       "      <td>...</td>\n",
       "      <td>0.191393</td>\n",
       "      <td>-0.067001</td>\n",
       "      <td>-0.538642</td>\n",
       "      <td>-1.534495</td>\n",
       "      <td>0.447655</td>\n",
       "      <td>0.323265</td>\n",
       "      <td>0.421459</td>\n",
       "      <td>-0.223714</td>\n",
       "      <td>-0.135467</td>\n",
       "      <td>seventies</td>\n",
       "    </tr>\n",
       "    <tr>\n",
       "      <th>2</th>\n",
       "      <td>0.0</td>\n",
       "      <td>1843.096456</td>\n",
       "      <td>1346.455698</td>\n",
       "      <td>3167.880639</td>\n",
       "      <td>-218.65076</td>\n",
       "      <td>54.647396</td>\n",
       "      <td>-34.087723</td>\n",
       "      <td>35.585747</td>\n",
       "      <td>-18.367844</td>\n",
       "      <td>-9.931020</td>\n",
       "      <td>...</td>\n",
       "      <td>0.136874</td>\n",
       "      <td>-1.122960</td>\n",
       "      <td>-0.744736</td>\n",
       "      <td>-0.445227</td>\n",
       "      <td>0.899421</td>\n",
       "      <td>0.020074</td>\n",
       "      <td>-0.678399</td>\n",
       "      <td>0.074347</td>\n",
       "      <td>0.107994</td>\n",
       "      <td>thirties</td>\n",
       "    </tr>\n",
       "    <tr>\n",
       "      <th>3</th>\n",
       "      <td>1.0</td>\n",
       "      <td>1461.189465</td>\n",
       "      <td>1498.902592</td>\n",
       "      <td>2983.635355</td>\n",
       "      <td>-283.73032</td>\n",
       "      <td>76.660830</td>\n",
       "      <td>15.407807</td>\n",
       "      <td>28.268713</td>\n",
       "      <td>-7.024139</td>\n",
       "      <td>-7.843547</td>\n",
       "      <td>...</td>\n",
       "      <td>-0.098889</td>\n",
       "      <td>-0.226142</td>\n",
       "      <td>-0.197733</td>\n",
       "      <td>0.227836</td>\n",
       "      <td>0.318534</td>\n",
       "      <td>-0.278193</td>\n",
       "      <td>0.070605</td>\n",
       "      <td>0.006450</td>\n",
       "      <td>-0.108097</td>\n",
       "      <td>sixties</td>\n",
       "    </tr>\n",
       "    <tr>\n",
       "      <th>4</th>\n",
       "      <td>1.0</td>\n",
       "      <td>1446.691044</td>\n",
       "      <td>1643.481467</td>\n",
       "      <td>2918.068910</td>\n",
       "      <td>-178.92532</td>\n",
       "      <td>87.650060</td>\n",
       "      <td>14.496930</td>\n",
       "      <td>7.610833</td>\n",
       "      <td>11.074960</td>\n",
       "      <td>5.889675</td>\n",
       "      <td>...</td>\n",
       "      <td>-0.106049</td>\n",
       "      <td>-0.197205</td>\n",
       "      <td>0.174795</td>\n",
       "      <td>-0.111371</td>\n",
       "      <td>0.132505</td>\n",
       "      <td>0.000568</td>\n",
       "      <td>-0.081714</td>\n",
       "      <td>-0.298213</td>\n",
       "      <td>-0.127580</td>\n",
       "      <td>fifties</td>\n",
       "    </tr>\n",
       "    <tr>\n",
       "      <th>5</th>\n",
       "      <td>1.0</td>\n",
       "      <td>2984.595200</td>\n",
       "      <td>1743.243442</td>\n",
       "      <td>4888.682666</td>\n",
       "      <td>-133.29343</td>\n",
       "      <td>19.028036</td>\n",
       "      <td>1.763993</td>\n",
       "      <td>14.152978</td>\n",
       "      <td>-4.493174</td>\n",
       "      <td>-4.575603</td>\n",
       "      <td>...</td>\n",
       "      <td>0.804109</td>\n",
       "      <td>-0.024186</td>\n",
       "      <td>0.256479</td>\n",
       "      <td>0.612732</td>\n",
       "      <td>0.506386</td>\n",
       "      <td>0.400573</td>\n",
       "      <td>0.693514</td>\n",
       "      <td>0.143063</td>\n",
       "      <td>0.008424</td>\n",
       "      <td>thirties</td>\n",
       "    </tr>\n",
       "    <tr>\n",
       "      <th>6</th>\n",
       "      <td>1.0</td>\n",
       "      <td>1938.933743</td>\n",
       "      <td>1610.194597</td>\n",
       "      <td>3823.153409</td>\n",
       "      <td>-223.34268</td>\n",
       "      <td>55.624268</td>\n",
       "      <td>-9.642693</td>\n",
       "      <td>19.422556</td>\n",
       "      <td>4.967085</td>\n",
       "      <td>-1.910220</td>\n",
       "      <td>...</td>\n",
       "      <td>-0.548606</td>\n",
       "      <td>-0.859438</td>\n",
       "      <td>-0.806916</td>\n",
       "      <td>-0.254314</td>\n",
       "      <td>-1.105535</td>\n",
       "      <td>-0.560585</td>\n",
       "      <td>0.635543</td>\n",
       "      <td>0.317530</td>\n",
       "      <td>0.874078</td>\n",
       "      <td>thirties</td>\n",
       "    </tr>\n",
       "    <tr>\n",
       "      <th>7</th>\n",
       "      <td>0.0</td>\n",
       "      <td>2187.491471</td>\n",
       "      <td>1719.260458</td>\n",
       "      <td>4048.119029</td>\n",
       "      <td>-138.10294</td>\n",
       "      <td>52.946450</td>\n",
       "      <td>-1.579655</td>\n",
       "      <td>26.081347</td>\n",
       "      <td>8.248919</td>\n",
       "      <td>-7.130556</td>\n",
       "      <td>...</td>\n",
       "      <td>0.395517</td>\n",
       "      <td>-0.064247</td>\n",
       "      <td>-0.626631</td>\n",
       "      <td>-0.004203</td>\n",
       "      <td>-0.644569</td>\n",
       "      <td>-0.681598</td>\n",
       "      <td>-0.413953</td>\n",
       "      <td>-0.407220</td>\n",
       "      <td>-0.353954</td>\n",
       "      <td>twenties</td>\n",
       "    </tr>\n",
       "    <tr>\n",
       "      <th>8</th>\n",
       "      <td>1.0</td>\n",
       "      <td>1894.619554</td>\n",
       "      <td>1392.854413</td>\n",
       "      <td>3361.292614</td>\n",
       "      <td>-210.93494</td>\n",
       "      <td>75.761610</td>\n",
       "      <td>-19.697887</td>\n",
       "      <td>28.655033</td>\n",
       "      <td>-7.240057</td>\n",
       "      <td>-13.831984</td>\n",
       "      <td>...</td>\n",
       "      <td>-0.905839</td>\n",
       "      <td>-0.634374</td>\n",
       "      <td>-0.762500</td>\n",
       "      <td>-0.120154</td>\n",
       "      <td>-0.690003</td>\n",
       "      <td>-0.836314</td>\n",
       "      <td>-0.064663</td>\n",
       "      <td>0.012296</td>\n",
       "      <td>-0.585096</td>\n",
       "      <td>twenties</td>\n",
       "    </tr>\n",
       "    <tr>\n",
       "      <th>9</th>\n",
       "      <td>1.0</td>\n",
       "      <td>1375.953133</td>\n",
       "      <td>1472.555055</td>\n",
       "      <td>2574.913727</td>\n",
       "      <td>-165.18628</td>\n",
       "      <td>85.020900</td>\n",
       "      <td>11.510531</td>\n",
       "      <td>13.469062</td>\n",
       "      <td>-5.280445</td>\n",
       "      <td>-10.045521</td>\n",
       "      <td>...</td>\n",
       "      <td>0.162787</td>\n",
       "      <td>0.042931</td>\n",
       "      <td>0.349893</td>\n",
       "      <td>0.118313</td>\n",
       "      <td>0.020360</td>\n",
       "      <td>0.021915</td>\n",
       "      <td>-0.281770</td>\n",
       "      <td>-0.112778</td>\n",
       "      <td>-0.266839</td>\n",
       "      <td>thirties</td>\n",
       "    </tr>\n",
       "  </tbody>\n",
       "</table>\n",
       "<p>10 rows × 69 columns</p>\n",
       "</div>"
      ],
      "text/plain": [
       "   gender  spectral_centroid  spectral_bandwidth  spectral_rolloff      mfcc1  \\\n",
       "0     0.0        1681.532414         1680.805934       3543.630464 -386.69530   \n",
       "1     1.0        2020.193756         1424.773657       3422.301136 -268.86496   \n",
       "2     0.0        1843.096456         1346.455698       3167.880639 -218.65076   \n",
       "3     1.0        1461.189465         1498.902592       2983.635355 -283.73032   \n",
       "4     1.0        1446.691044         1643.481467       2918.068910 -178.92532   \n",
       "5     1.0        2984.595200         1743.243442       4888.682666 -133.29343   \n",
       "6     1.0        1938.933743         1610.194597       3823.153409 -223.34268   \n",
       "7     0.0        2187.491471         1719.260458       4048.119029 -138.10294   \n",
       "8     1.0        1894.619554         1392.854413       3361.292614 -210.93494   \n",
       "9     1.0        1375.953133         1472.555055       2574.913727 -165.18628   \n",
       "\n",
       "       mfcc2      mfcc3      mfcc4      mfcc5      mfcc6  ...    mfcc56  \\\n",
       "0  58.885944  20.434235  28.430403  -6.543071  -1.804826  ...  0.073542   \n",
       "1  63.284850 -18.909096  14.215420   2.823777  -4.745179  ...  0.191393   \n",
       "2  54.647396 -34.087723  35.585747 -18.367844  -9.931020  ...  0.136874   \n",
       "3  76.660830  15.407807  28.268713  -7.024139  -7.843547  ... -0.098889   \n",
       "4  87.650060  14.496930   7.610833  11.074960   5.889675  ... -0.106049   \n",
       "5  19.028036   1.763993  14.152978  -4.493174  -4.575603  ...  0.804109   \n",
       "6  55.624268  -9.642693  19.422556   4.967085  -1.910220  ... -0.548606   \n",
       "7  52.946450  -1.579655  26.081347   8.248919  -7.130556  ...  0.395517   \n",
       "8  75.761610 -19.697887  28.655033  -7.240057 -13.831984  ... -0.905839   \n",
       "9  85.020900  11.510531  13.469062  -5.280445 -10.045521  ...  0.162787   \n",
       "\n",
       "     mfcc57    mfcc58    mfcc59    mfcc60    mfcc61    mfcc62    mfcc63  \\\n",
       "0 -0.097709 -0.255389 -0.112463  0.346833  0.418975 -0.373270  0.025089   \n",
       "1 -0.067001 -0.538642 -1.534495  0.447655  0.323265  0.421459 -0.223714   \n",
       "2 -1.122960 -0.744736 -0.445227  0.899421  0.020074 -0.678399  0.074347   \n",
       "3 -0.226142 -0.197733  0.227836  0.318534 -0.278193  0.070605  0.006450   \n",
       "4 -0.197205  0.174795 -0.111371  0.132505  0.000568 -0.081714 -0.298213   \n",
       "5 -0.024186  0.256479  0.612732  0.506386  0.400573  0.693514  0.143063   \n",
       "6 -0.859438 -0.806916 -0.254314 -1.105535 -0.560585  0.635543  0.317530   \n",
       "7 -0.064247 -0.626631 -0.004203 -0.644569 -0.681598 -0.413953 -0.407220   \n",
       "8 -0.634374 -0.762500 -0.120154 -0.690003 -0.836314 -0.064663  0.012296   \n",
       "9  0.042931  0.349893  0.118313  0.020360  0.021915 -0.281770 -0.112778   \n",
       "\n",
       "     mfcc64      label  \n",
       "0  0.428625   twenties  \n",
       "1 -0.135467  seventies  \n",
       "2  0.107994   thirties  \n",
       "3 -0.108097    sixties  \n",
       "4 -0.127580    fifties  \n",
       "5  0.008424   thirties  \n",
       "6  0.874078   thirties  \n",
       "7 -0.353954   twenties  \n",
       "8 -0.585096   twenties  \n",
       "9 -0.266839   thirties  \n",
       "\n",
       "[10 rows x 69 columns]"
      ]
     },
     "execution_count": 2,
     "metadata": {},
     "output_type": "execute_result"
    }
   ],
   "source": [
    "audio_features = pd.read_csv('features.csv')\n",
    "audio_features.head(10)"
   ]
  },
  {
   "cell_type": "markdown",
   "metadata": {},
   "source": [
    "## Feature Engineering and Normalization"
   ]
  },
  {
   "cell_type": "code",
   "execution_count": 3,
   "metadata": {},
   "outputs": [],
   "source": [
    "X = audio_features.copy().drop(columns=['gender','label'])\n",
    "y_gender = audio_features.copy()['gender']\n",
    "y_age = audio_features.copy()['label']"
   ]
  },
  {
   "cell_type": "code",
   "execution_count": 4,
   "metadata": {},
   "outputs": [],
   "source": [
    "def minmax(x):\n",
    "    return (x - np.min(x)) / (np.max(x) - np.min(x))\n",
    "\n",
    "def standardize(x):\n",
    "    return (x - np.mean(x)) / np.std(x)"
   ]
  },
  {
   "cell_type": "code",
   "execution_count": 5,
   "metadata": {},
   "outputs": [
    {
     "data": {
      "text/html": [
       "<div>\n",
       "<style scoped>\n",
       "    .dataframe tbody tr th:only-of-type {\n",
       "        vertical-align: middle;\n",
       "    }\n",
       "\n",
       "    .dataframe tbody tr th {\n",
       "        vertical-align: top;\n",
       "    }\n",
       "\n",
       "    .dataframe thead th {\n",
       "        text-align: right;\n",
       "    }\n",
       "</style>\n",
       "<table border=\"1\" class=\"dataframe\">\n",
       "  <thead>\n",
       "    <tr style=\"text-align: right;\">\n",
       "      <th></th>\n",
       "      <th>spectral_centroid</th>\n",
       "      <th>spectral_bandwidth</th>\n",
       "      <th>spectral_rolloff</th>\n",
       "      <th>mfcc1</th>\n",
       "      <th>mfcc2</th>\n",
       "      <th>mfcc3</th>\n",
       "      <th>mfcc4</th>\n",
       "      <th>mfcc5</th>\n",
       "      <th>mfcc6</th>\n",
       "      <th>mfcc7</th>\n",
       "      <th>...</th>\n",
       "      <th>mfcc55</th>\n",
       "      <th>mfcc56</th>\n",
       "      <th>mfcc57</th>\n",
       "      <th>mfcc58</th>\n",
       "      <th>mfcc59</th>\n",
       "      <th>mfcc60</th>\n",
       "      <th>mfcc61</th>\n",
       "      <th>mfcc62</th>\n",
       "      <th>mfcc63</th>\n",
       "      <th>mfcc64</th>\n",
       "    </tr>\n",
       "  </thead>\n",
       "  <tbody>\n",
       "    <tr>\n",
       "      <th>0</th>\n",
       "      <td>1681.532414</td>\n",
       "      <td>1680.805934</td>\n",
       "      <td>3543.630464</td>\n",
       "      <td>-386.69530</td>\n",
       "      <td>58.885944</td>\n",
       "      <td>20.434235</td>\n",
       "      <td>28.430403</td>\n",
       "      <td>-6.543071</td>\n",
       "      <td>-1.804826</td>\n",
       "      <td>-12.135334</td>\n",
       "      <td>...</td>\n",
       "      <td>-0.499918</td>\n",
       "      <td>0.073542</td>\n",
       "      <td>-0.097709</td>\n",
       "      <td>-0.255389</td>\n",
       "      <td>-0.112463</td>\n",
       "      <td>0.346833</td>\n",
       "      <td>0.418975</td>\n",
       "      <td>-0.373270</td>\n",
       "      <td>0.025089</td>\n",
       "      <td>0.428625</td>\n",
       "    </tr>\n",
       "    <tr>\n",
       "      <th>1</th>\n",
       "      <td>2020.193756</td>\n",
       "      <td>1424.773657</td>\n",
       "      <td>3422.301136</td>\n",
       "      <td>-268.86496</td>\n",
       "      <td>63.284850</td>\n",
       "      <td>-18.909096</td>\n",
       "      <td>14.215420</td>\n",
       "      <td>2.823777</td>\n",
       "      <td>-4.745179</td>\n",
       "      <td>-21.438778</td>\n",
       "      <td>...</td>\n",
       "      <td>-0.243807</td>\n",
       "      <td>0.191393</td>\n",
       "      <td>-0.067001</td>\n",
       "      <td>-0.538642</td>\n",
       "      <td>-1.534495</td>\n",
       "      <td>0.447655</td>\n",
       "      <td>0.323265</td>\n",
       "      <td>0.421459</td>\n",
       "      <td>-0.223714</td>\n",
       "      <td>-0.135467</td>\n",
       "    </tr>\n",
       "    <tr>\n",
       "      <th>2</th>\n",
       "      <td>1843.096456</td>\n",
       "      <td>1346.455698</td>\n",
       "      <td>3167.880639</td>\n",
       "      <td>-218.65076</td>\n",
       "      <td>54.647396</td>\n",
       "      <td>-34.087723</td>\n",
       "      <td>35.585747</td>\n",
       "      <td>-18.367844</td>\n",
       "      <td>-9.931020</td>\n",
       "      <td>-20.953120</td>\n",
       "      <td>...</td>\n",
       "      <td>0.154141</td>\n",
       "      <td>0.136874</td>\n",
       "      <td>-1.122960</td>\n",
       "      <td>-0.744736</td>\n",
       "      <td>-0.445227</td>\n",
       "      <td>0.899421</td>\n",
       "      <td>0.020074</td>\n",
       "      <td>-0.678399</td>\n",
       "      <td>0.074347</td>\n",
       "      <td>0.107994</td>\n",
       "    </tr>\n",
       "    <tr>\n",
       "      <th>3</th>\n",
       "      <td>1461.189465</td>\n",
       "      <td>1498.902592</td>\n",
       "      <td>2983.635355</td>\n",
       "      <td>-283.73032</td>\n",
       "      <td>76.660830</td>\n",
       "      <td>15.407807</td>\n",
       "      <td>28.268713</td>\n",
       "      <td>-7.024139</td>\n",
       "      <td>-7.843547</td>\n",
       "      <td>-8.033633</td>\n",
       "      <td>...</td>\n",
       "      <td>0.247951</td>\n",
       "      <td>-0.098889</td>\n",
       "      <td>-0.226142</td>\n",
       "      <td>-0.197733</td>\n",
       "      <td>0.227836</td>\n",
       "      <td>0.318534</td>\n",
       "      <td>-0.278193</td>\n",
       "      <td>0.070605</td>\n",
       "      <td>0.006450</td>\n",
       "      <td>-0.108097</td>\n",
       "    </tr>\n",
       "    <tr>\n",
       "      <th>4</th>\n",
       "      <td>1446.691044</td>\n",
       "      <td>1643.481467</td>\n",
       "      <td>2918.068910</td>\n",
       "      <td>-178.92532</td>\n",
       "      <td>87.650060</td>\n",
       "      <td>14.496930</td>\n",
       "      <td>7.610833</td>\n",
       "      <td>11.074960</td>\n",
       "      <td>5.889675</td>\n",
       "      <td>7.431977</td>\n",
       "      <td>...</td>\n",
       "      <td>-0.580270</td>\n",
       "      <td>-0.106049</td>\n",
       "      <td>-0.197205</td>\n",
       "      <td>0.174795</td>\n",
       "      <td>-0.111371</td>\n",
       "      <td>0.132505</td>\n",
       "      <td>0.000568</td>\n",
       "      <td>-0.081714</td>\n",
       "      <td>-0.298213</td>\n",
       "      <td>-0.127580</td>\n",
       "    </tr>\n",
       "  </tbody>\n",
       "</table>\n",
       "<p>5 rows × 67 columns</p>\n",
       "</div>"
      ],
      "text/plain": [
       "   spectral_centroid  spectral_bandwidth  spectral_rolloff      mfcc1  \\\n",
       "0        1681.532414         1680.805934       3543.630464 -386.69530   \n",
       "1        2020.193756         1424.773657       3422.301136 -268.86496   \n",
       "2        1843.096456         1346.455698       3167.880639 -218.65076   \n",
       "3        1461.189465         1498.902592       2983.635355 -283.73032   \n",
       "4        1446.691044         1643.481467       2918.068910 -178.92532   \n",
       "\n",
       "       mfcc2      mfcc3      mfcc4      mfcc5     mfcc6      mfcc7  ...  \\\n",
       "0  58.885944  20.434235  28.430403  -6.543071 -1.804826 -12.135334  ...   \n",
       "1  63.284850 -18.909096  14.215420   2.823777 -4.745179 -21.438778  ...   \n",
       "2  54.647396 -34.087723  35.585747 -18.367844 -9.931020 -20.953120  ...   \n",
       "3  76.660830  15.407807  28.268713  -7.024139 -7.843547  -8.033633  ...   \n",
       "4  87.650060  14.496930   7.610833  11.074960  5.889675   7.431977  ...   \n",
       "\n",
       "     mfcc55    mfcc56    mfcc57    mfcc58    mfcc59    mfcc60    mfcc61  \\\n",
       "0 -0.499918  0.073542 -0.097709 -0.255389 -0.112463  0.346833  0.418975   \n",
       "1 -0.243807  0.191393 -0.067001 -0.538642 -1.534495  0.447655  0.323265   \n",
       "2  0.154141  0.136874 -1.122960 -0.744736 -0.445227  0.899421  0.020074   \n",
       "3  0.247951 -0.098889 -0.226142 -0.197733  0.227836  0.318534 -0.278193   \n",
       "4 -0.580270 -0.106049 -0.197205  0.174795 -0.111371  0.132505  0.000568   \n",
       "\n",
       "     mfcc62    mfcc63    mfcc64  \n",
       "0 -0.373270  0.025089  0.428625  \n",
       "1  0.421459 -0.223714 -0.135467  \n",
       "2 -0.678399  0.074347  0.107994  \n",
       "3  0.070605  0.006450 -0.108097  \n",
       "4 -0.081714 -0.298213 -0.127580  \n",
       "\n",
       "[5 rows x 67 columns]"
      ]
     },
     "execution_count": 5,
     "metadata": {},
     "output_type": "execute_result"
    }
   ],
   "source": [
    "X.head()"
   ]
  },
  {
   "cell_type": "code",
   "execution_count": 6,
   "metadata": {},
   "outputs": [],
   "source": [
    "X['spectral_centroid'] = standardize(X['spectral_centroid'])\n",
    "X['spectral_rolloff'] = standardize(X['spectral_rolloff'])\n",
    "X['spectral_bandwidth'] = minmax(X['spectral_bandwidth'])\n",
    "\n",
    "for i in X.columns[3:]:\n",
    "    X[i] = standardize(X[i])"
   ]
  },
  {
   "cell_type": "markdown",
   "metadata": {},
   "source": [
    "## Feature Extraction Dengan Principal Component Analysis"
   ]
  },
  {
   "cell_type": "code",
   "execution_count": 7,
   "metadata": {},
   "outputs": [
    {
     "data": {
      "text/plain": [
       "(73465, 46)"
      ]
     },
     "execution_count": 7,
     "metadata": {},
     "output_type": "execute_result"
    }
   ],
   "source": [
    "pca = PCA(0.90)\n",
    "X_PCA = pca.fit_transform(X)\n",
    "X_PCA.shape"
   ]
  },
  {
   "cell_type": "code",
   "execution_count": 8,
   "metadata": {},
   "outputs": [],
   "source": [
    "label_encoder = LabelEncoder()\n",
    "y_age = label_encoder.fit_transform(y_age)\n",
    "y_age = to_categorical(y_age)"
   ]
  },
  {
   "cell_type": "markdown",
   "metadata": {},
   "source": [
    "## Split Data For the Train Set, Validation Set, and Test Set"
   ]
  },
  {
   "cell_type": "code",
   "execution_count": 9,
   "metadata": {},
   "outputs": [],
   "source": [
    "X_train, X_valid, y_train_gender, y_valid_gender, y_train_age, y_valid_age, = train_test_split(X_PCA, \n",
    "                                                                                                y_gender, \n",
    "                                                                                                y_age, \n",
    "                                                                                                test_size= 0.3, \n",
    "                                                                                                random_state=142)\n",
    "\n",
    "X_val, X_test, y_val_gender, y_test_gender, y_val_age, y_test_age = train_test_split(X_valid, y_valid_gender, y_valid_age, test_size=0.3, random_state=142)\n"
   ]
  },
  {
   "cell_type": "markdown",
   "metadata": {},
   "source": [
    "## Build and Train Model"
   ]
  },
  {
   "cell_type": "code",
   "execution_count": 10,
   "metadata": {},
   "outputs": [
    {
     "name": "stdout",
     "output_type": "stream",
     "text": [
      "Epoch 1/50\n",
      "804/804 [==============================] - 3s 3ms/step - loss: 0.2775 - accuracy: 0.8958 - val_loss: 0.1998 - val_accuracy: 0.9214\n",
      "Epoch 2/50\n",
      "804/804 [==============================] - 2s 2ms/step - loss: 0.2111 - accuracy: 0.9213 - val_loss: 0.1732 - val_accuracy: 0.9313\n",
      "Epoch 3/50\n",
      "804/804 [==============================] - 2s 2ms/step - loss: 0.1906 - accuracy: 0.9284 - val_loss: 0.1595 - val_accuracy: 0.9368\n",
      "Epoch 4/50\n",
      "804/804 [==============================] - 2s 2ms/step - loss: 0.1790 - accuracy: 0.9324 - val_loss: 0.1500 - val_accuracy: 0.9411\n",
      "Epoch 5/50\n",
      "804/804 [==============================] - 1s 2ms/step - loss: 0.1660 - accuracy: 0.9350 - val_loss: 0.1438 - val_accuracy: 0.9429\n",
      "Epoch 6/50\n",
      "804/804 [==============================] - 2s 2ms/step - loss: 0.1583 - accuracy: 0.9374 - val_loss: 0.1381 - val_accuracy: 0.9465\n",
      "Epoch 7/50\n",
      "804/804 [==============================] - 2s 2ms/step - loss: 0.1527 - accuracy: 0.9395 - val_loss: 0.1315 - val_accuracy: 0.9479\n",
      "Epoch 8/50\n",
      "804/804 [==============================] - 2s 2ms/step - loss: 0.1475 - accuracy: 0.9402 - val_loss: 0.1269 - val_accuracy: 0.9473\n",
      "Epoch 9/50\n",
      "804/804 [==============================] - 2s 2ms/step - loss: 0.1427 - accuracy: 0.9415 - val_loss: 0.1248 - val_accuracy: 0.9488\n",
      "Epoch 10/50\n",
      "804/804 [==============================] - 2s 2ms/step - loss: 0.1385 - accuracy: 0.9431 - val_loss: 0.1239 - val_accuracy: 0.9490\n",
      "Epoch 11/50\n",
      "804/804 [==============================] - 1s 2ms/step - loss: 0.1340 - accuracy: 0.9452 - val_loss: 0.1218 - val_accuracy: 0.9497\n",
      "Epoch 12/50\n",
      "804/804 [==============================] - 2s 2ms/step - loss: 0.1316 - accuracy: 0.9446 - val_loss: 0.1159 - val_accuracy: 0.9513\n",
      "Epoch 13/50\n",
      "804/804 [==============================] - 2s 2ms/step - loss: 0.1276 - accuracy: 0.9467 - val_loss: 0.1155 - val_accuracy: 0.9515\n",
      "Epoch 14/50\n",
      "804/804 [==============================] - 2s 2ms/step - loss: 0.1253 - accuracy: 0.9473 - val_loss: 0.1130 - val_accuracy: 0.9525\n",
      "Epoch 15/50\n",
      "804/804 [==============================] - 2s 2ms/step - loss: 0.1246 - accuracy: 0.9474 - val_loss: 0.1119 - val_accuracy: 0.9526\n",
      "Epoch 16/50\n",
      "804/804 [==============================] - 2s 2ms/step - loss: 0.1221 - accuracy: 0.9479 - val_loss: 0.1088 - val_accuracy: 0.9531\n",
      "Epoch 17/50\n",
      "804/804 [==============================] - 2s 2ms/step - loss: 0.1188 - accuracy: 0.9496 - val_loss: 0.1089 - val_accuracy: 0.9539\n",
      "Epoch 18/50\n",
      "804/804 [==============================] - 2s 2ms/step - loss: 0.1171 - accuracy: 0.9501 - val_loss: 0.1069 - val_accuracy: 0.9538\n",
      "Epoch 19/50\n",
      "804/804 [==============================] - 2s 2ms/step - loss: 0.1150 - accuracy: 0.9498 - val_loss: 0.1070 - val_accuracy: 0.9555\n",
      "Epoch 20/50\n",
      "804/804 [==============================] - 1s 2ms/step - loss: 0.1149 - accuracy: 0.9496 - val_loss: 0.1090 - val_accuracy: 0.9535\n",
      "Epoch 21/50\n",
      "804/804 [==============================] - 1s 2ms/step - loss: 0.1126 - accuracy: 0.9512 - val_loss: 0.1063 - val_accuracy: 0.9543\n",
      "Epoch 22/50\n",
      "804/804 [==============================] - 2s 2ms/step - loss: 0.1097 - accuracy: 0.9516 - val_loss: 0.1040 - val_accuracy: 0.9555\n",
      "Epoch 23/50\n",
      "804/804 [==============================] - 2s 2ms/step - loss: 0.1091 - accuracy: 0.9521 - val_loss: 0.1038 - val_accuracy: 0.9548\n",
      "Epoch 24/50\n",
      "804/804 [==============================] - 2s 2ms/step - loss: 0.1086 - accuracy: 0.9522 - val_loss: 0.1024 - val_accuracy: 0.9560\n",
      "Epoch 25/50\n",
      "804/804 [==============================] - 1s 2ms/step - loss: 0.1064 - accuracy: 0.9530 - val_loss: 0.1026 - val_accuracy: 0.9566\n",
      "Epoch 26/50\n",
      "804/804 [==============================] - 1s 2ms/step - loss: 0.1062 - accuracy: 0.9534 - val_loss: 0.1044 - val_accuracy: 0.9550\n",
      "Epoch 27/50\n",
      "804/804 [==============================] - 2s 2ms/step - loss: 0.1071 - accuracy: 0.9539 - val_loss: 0.1028 - val_accuracy: 0.9566\n",
      "Epoch 28/50\n",
      "804/804 [==============================] - 2s 2ms/step - loss: 0.1040 - accuracy: 0.9533 - val_loss: 0.1014 - val_accuracy: 0.9566\n",
      "Epoch 29/50\n",
      "804/804 [==============================] - 2s 2ms/step - loss: 0.1019 - accuracy: 0.9541 - val_loss: 0.1022 - val_accuracy: 0.9557\n",
      "Epoch 30/50\n",
      "804/804 [==============================] - 3s 3ms/step - loss: 0.1025 - accuracy: 0.9551 - val_loss: 0.1014 - val_accuracy: 0.9569\n",
      "Epoch 31/50\n",
      "804/804 [==============================] - 2s 3ms/step - loss: 0.1011 - accuracy: 0.9548 - val_loss: 0.1019 - val_accuracy: 0.9560\n",
      "Epoch 32/50\n",
      "804/804 [==============================] - 3s 3ms/step - loss: 0.1022 - accuracy: 0.9548 - val_loss: 0.1026 - val_accuracy: 0.9580\n",
      "Epoch 33/50\n",
      "804/804 [==============================] - 2s 3ms/step - loss: 0.0996 - accuracy: 0.9545 - val_loss: 0.1010 - val_accuracy: 0.9574\n",
      "Epoch 34/50\n",
      "804/804 [==============================] - 2s 2ms/step - loss: 0.0977 - accuracy: 0.9561 - val_loss: 0.0992 - val_accuracy: 0.9580\n",
      "Epoch 35/50\n",
      "804/804 [==============================] - 1s 2ms/step - loss: 0.1005 - accuracy: 0.9550 - val_loss: 0.0960 - val_accuracy: 0.9578\n",
      "Epoch 36/50\n",
      "804/804 [==============================] - 1s 2ms/step - loss: 0.0975 - accuracy: 0.9568 - val_loss: 0.0983 - val_accuracy: 0.9584\n",
      "Epoch 37/50\n",
      "804/804 [==============================] - 1s 2ms/step - loss: 0.0979 - accuracy: 0.9548 - val_loss: 0.0988 - val_accuracy: 0.9577\n",
      "Epoch 38/50\n",
      "804/804 [==============================] - 2s 2ms/step - loss: 0.0980 - accuracy: 0.9556 - val_loss: 0.0984 - val_accuracy: 0.9574\n",
      "Epoch 39/50\n",
      "804/804 [==============================] - 1s 2ms/step - loss: 0.0972 - accuracy: 0.9562 - val_loss: 0.0988 - val_accuracy: 0.9570\n",
      "Epoch 40/50\n",
      "804/804 [==============================] - 1s 2ms/step - loss: 0.0966 - accuracy: 0.9560 - val_loss: 0.0998 - val_accuracy: 0.9570\n",
      "Epoch 1/50\n",
      "804/804 [==============================] - 3s 3ms/step - loss: 1.5212 - accuracy: 0.4067 - val_loss: 1.2751 - val_accuracy: 0.5251\n",
      "Epoch 2/50\n",
      "804/804 [==============================] - 2s 3ms/step - loss: 1.2697 - accuracy: 0.5175 - val_loss: 1.0841 - val_accuracy: 0.6063\n",
      "Epoch 3/50\n",
      "804/804 [==============================] - 2s 3ms/step - loss: 1.1389 - accuracy: 0.5709 - val_loss: 0.9730 - val_accuracy: 0.6469\n",
      "Epoch 4/50\n",
      "804/804 [==============================] - 2s 3ms/step - loss: 1.0556 - accuracy: 0.6041 - val_loss: 0.8974 - val_accuracy: 0.6788\n",
      "Epoch 5/50\n",
      "804/804 [==============================] - 2s 3ms/step - loss: 1.0010 - accuracy: 0.6285 - val_loss: 0.8405 - val_accuracy: 0.7040\n",
      "Epoch 6/50\n",
      "804/804 [==============================] - 2s 3ms/step - loss: 0.9496 - accuracy: 0.6484 - val_loss: 0.7979 - val_accuracy: 0.7177\n",
      "Epoch 7/50\n",
      "804/804 [==============================] - 2s 3ms/step - loss: 0.9109 - accuracy: 0.6645 - val_loss: 0.7683 - val_accuracy: 0.7307\n",
      "Epoch 8/50\n",
      "804/804 [==============================] - 2s 3ms/step - loss: 0.8781 - accuracy: 0.6801 - val_loss: 0.7341 - val_accuracy: 0.7433\n",
      "Epoch 9/50\n",
      "804/804 [==============================] - 2s 3ms/step - loss: 0.8565 - accuracy: 0.6865 - val_loss: 0.7109 - val_accuracy: 0.7492\n",
      "Epoch 10/50\n",
      "804/804 [==============================] - 2s 3ms/step - loss: 0.8346 - accuracy: 0.6977 - val_loss: 0.6908 - val_accuracy: 0.7592\n",
      "Epoch 11/50\n",
      "804/804 [==============================] - 2s 3ms/step - loss: 0.8113 - accuracy: 0.7054 - val_loss: 0.6758 - val_accuracy: 0.7643\n",
      "Epoch 12/50\n",
      "804/804 [==============================] - 2s 3ms/step - loss: 0.7964 - accuracy: 0.7106 - val_loss: 0.6644 - val_accuracy: 0.7694\n",
      "Epoch 13/50\n",
      "804/804 [==============================] - 2s 3ms/step - loss: 0.7822 - accuracy: 0.7180 - val_loss: 0.6496 - val_accuracy: 0.7739\n",
      "Epoch 14/50\n",
      "804/804 [==============================] - 2s 3ms/step - loss: 0.7716 - accuracy: 0.7182 - val_loss: 0.6409 - val_accuracy: 0.7757\n",
      "Epoch 15/50\n",
      "804/804 [==============================] - 2s 3ms/step - loss: 0.7584 - accuracy: 0.7255 - val_loss: 0.6291 - val_accuracy: 0.7822\n",
      "Epoch 16/50\n",
      "804/804 [==============================] - 2s 3ms/step - loss: 0.7421 - accuracy: 0.7301 - val_loss: 0.6219 - val_accuracy: 0.7823\n",
      "Epoch 17/50\n",
      "804/804 [==============================] - 2s 3ms/step - loss: 0.7401 - accuracy: 0.7340 - val_loss: 0.6127 - val_accuracy: 0.7877\n",
      "Epoch 18/50\n",
      "804/804 [==============================] - 2s 3ms/step - loss: 0.7246 - accuracy: 0.7382 - val_loss: 0.6114 - val_accuracy: 0.7871\n",
      "Epoch 19/50\n",
      "804/804 [==============================] - 2s 3ms/step - loss: 0.7236 - accuracy: 0.7391 - val_loss: 0.5978 - val_accuracy: 0.7916\n",
      "Epoch 20/50\n",
      "804/804 [==============================] - 2s 3ms/step - loss: 0.7148 - accuracy: 0.7429 - val_loss: 0.5931 - val_accuracy: 0.7914\n",
      "Epoch 21/50\n",
      "804/804 [==============================] - 2s 3ms/step - loss: 0.7016 - accuracy: 0.7457 - val_loss: 0.5874 - val_accuracy: 0.7969\n",
      "Epoch 22/50\n",
      "804/804 [==============================] - 2s 3ms/step - loss: 0.6975 - accuracy: 0.7486 - val_loss: 0.5789 - val_accuracy: 0.7980\n",
      "Epoch 23/50\n",
      "804/804 [==============================] - 2s 3ms/step - loss: 0.6919 - accuracy: 0.7494 - val_loss: 0.5779 - val_accuracy: 0.7989\n",
      "Epoch 24/50\n",
      "804/804 [==============================] - 2s 3ms/step - loss: 0.6854 - accuracy: 0.7532 - val_loss: 0.5710 - val_accuracy: 0.8029\n",
      "Epoch 25/50\n",
      "804/804 [==============================] - 2s 3ms/step - loss: 0.6836 - accuracy: 0.7517 - val_loss: 0.5753 - val_accuracy: 0.8030\n",
      "Epoch 26/50\n",
      "804/804 [==============================] - 2s 3ms/step - loss: 0.6736 - accuracy: 0.7563 - val_loss: 0.5710 - val_accuracy: 0.8026\n",
      "Epoch 27/50\n",
      "804/804 [==============================] - 2s 3ms/step - loss: 0.6743 - accuracy: 0.7559 - val_loss: 0.5677 - val_accuracy: 0.8043\n",
      "Epoch 28/50\n",
      "804/804 [==============================] - 2s 3ms/step - loss: 0.6647 - accuracy: 0.7605 - val_loss: 0.5604 - val_accuracy: 0.8076\n",
      "Epoch 29/50\n",
      "804/804 [==============================] - 2s 3ms/step - loss: 0.6663 - accuracy: 0.7604 - val_loss: 0.5589 - val_accuracy: 0.8064\n",
      "Epoch 30/50\n",
      "804/804 [==============================] - 4s 4ms/step - loss: 0.6557 - accuracy: 0.7625 - val_loss: 0.5564 - val_accuracy: 0.8090\n",
      "Epoch 31/50\n",
      "804/804 [==============================] - 2s 3ms/step - loss: 0.6536 - accuracy: 0.7638 - val_loss: 0.5546 - val_accuracy: 0.8092\n",
      "Epoch 32/50\n",
      "804/804 [==============================] - 2s 3ms/step - loss: 0.6528 - accuracy: 0.7630 - val_loss: 0.5555 - val_accuracy: 0.8114\n",
      "Epoch 33/50\n",
      "804/804 [==============================] - 2s 3ms/step - loss: 0.6498 - accuracy: 0.7648 - val_loss: 0.5498 - val_accuracy: 0.8121\n",
      "Epoch 34/50\n",
      "804/804 [==============================] - 3s 4ms/step - loss: 0.6462 - accuracy: 0.7676 - val_loss: 0.5491 - val_accuracy: 0.8131\n",
      "Epoch 35/50\n",
      "804/804 [==============================] - 2s 3ms/step - loss: 0.6451 - accuracy: 0.7674 - val_loss: 0.5461 - val_accuracy: 0.8148\n",
      "Epoch 36/50\n",
      "804/804 [==============================] - 2s 3ms/step - loss: 0.6363 - accuracy: 0.7718 - val_loss: 0.5411 - val_accuracy: 0.8151\n",
      "Epoch 37/50\n",
      "804/804 [==============================] - 2s 3ms/step - loss: 0.6341 - accuracy: 0.7716 - val_loss: 0.5351 - val_accuracy: 0.8177\n",
      "Epoch 38/50\n",
      "804/804 [==============================] - 2s 3ms/step - loss: 0.6295 - accuracy: 0.7743 - val_loss: 0.5332 - val_accuracy: 0.8174\n",
      "Epoch 39/50\n",
      "804/804 [==============================] - 3s 4ms/step - loss: 0.6318 - accuracy: 0.7720 - val_loss: 0.5391 - val_accuracy: 0.8157\n",
      "Epoch 40/50\n",
      "804/804 [==============================] - 4s 5ms/step - loss: 0.6243 - accuracy: 0.7768 - val_loss: 0.5336 - val_accuracy: 0.8203\n",
      "Epoch 41/50\n",
      "804/804 [==============================] - 3s 3ms/step - loss: 0.6255 - accuracy: 0.7749 - val_loss: 0.5363 - val_accuracy: 0.8175\n",
      "Epoch 42/50\n",
      "804/804 [==============================] - 2s 3ms/step - loss: 0.6159 - accuracy: 0.7769 - val_loss: 0.5326 - val_accuracy: 0.8190\n",
      "Epoch 43/50\n",
      "804/804 [==============================] - 2s 3ms/step - loss: 0.6124 - accuracy: 0.7790 - val_loss: 0.5308 - val_accuracy: 0.8206\n",
      "Epoch 44/50\n",
      "804/804 [==============================] - 4s 4ms/step - loss: 0.6122 - accuracy: 0.7806 - val_loss: 0.5322 - val_accuracy: 0.8203\n",
      "Epoch 45/50\n",
      "804/804 [==============================] - 3s 4ms/step - loss: 0.6136 - accuracy: 0.7809 - val_loss: 0.5275 - val_accuracy: 0.8219\n",
      "Epoch 46/50\n",
      "804/804 [==============================] - 2s 3ms/step - loss: 0.6133 - accuracy: 0.7798 - val_loss: 0.5293 - val_accuracy: 0.8210\n",
      "Epoch 47/50\n",
      "804/804 [==============================] - 2s 3ms/step - loss: 0.6057 - accuracy: 0.7813 - val_loss: 0.5295 - val_accuracy: 0.8202\n",
      "Epoch 48/50\n",
      "804/804 [==============================] - 2s 3ms/step - loss: 0.6041 - accuracy: 0.7838 - val_loss: 0.5231 - val_accuracy: 0.8258\n",
      "Epoch 49/50\n",
      "804/804 [==============================] - 2s 3ms/step - loss: 0.6075 - accuracy: 0.7833 - val_loss: 0.5273 - val_accuracy: 0.8201\n",
      "Epoch 50/50\n",
      "804/804 [==============================] - 2s 3ms/step - loss: 0.5997 - accuracy: 0.7876 - val_loss: 0.5196 - val_accuracy: 0.8253\n"
     ]
    }
   ],
   "source": [
    "model_gender = Sequential([\n",
    "    Input(shape=(X_train.shape[1],)),\n",
    "    Dense(128, activation='gelu'),\n",
    "    Dropout(0.3),\n",
    "    Dense(64, activation='gelu'),\n",
    "    Dropout(0.3),\n",
    "    Dense(32, activation='gelu'),\n",
    "    Dropout(0.3),\n",
    "    Dense(2, activation='softmax')\n",
    "])\n",
    "\n",
    "\n",
    "model_age = Sequential([\n",
    "    Input(shape=(X_train.shape[1],)),\n",
    "    Dense(256, activation='gelu'),\n",
    "    Dropout(0.3),\n",
    "    Dense(256, activation='gelu'),\n",
    "    Dropout(0.3),\n",
    "    Dense(128, activation='gelu'),\n",
    "    Dropout(0.3),\n",
    "    Dense(8, activation='softmax')\n",
    "])\n",
    "\n",
    "model_gender.compile(optimizer='adam',\n",
    "                    loss='sparse_categorical_crossentropy',\n",
    "                    metrics=['accuracy'])\n",
    "\n",
    "model_age.compile(optimizer='adam',\n",
    "                    loss='categorical_crossentropy',\n",
    "                    metrics=['accuracy'])\n",
    "\n",
    "earlyStop = EarlyStopping(monitor='val_loss', patience=5, restore_best_weights=True)\n",
    "\n",
    "history = model_gender.fit(X_train, y_train_gender, \n",
    "                           epochs=50, batch_size=64, \n",
    "                           validation_data=(X_val, y_val_gender), \n",
    "                           callbacks=[earlyStop])\n",
    "history_2 = model_age.fit(X_train, y_train_age, \n",
    "                          epochs=50, batch_size=64, \n",
    "                          validation_data=(X_val, y_val_age), \n",
    "                          callbacks=[earlyStop])"
   ]
  },
  {
   "cell_type": "markdown",
   "metadata": {},
   "source": [
    "## View Loss-Accuracy Graph and Model Evaluation"
   ]
  },
  {
   "cell_type": "markdown",
   "metadata": {},
   "source": [
    "### View Loss-Accuracy Graph"
   ]
  },
  {
   "cell_type": "code",
   "execution_count": 11,
   "metadata": {},
   "outputs": [],
   "source": [
    "def plot_loss_acc(hist, name='(undefined)'):\n",
    "    fig, (ax0, ax1) = plt.subplots(nrows=1, ncols=2, sharex=True, figsize=(8, 3))\n",
    "    ax0.set_title('Loss Plot')\n",
    "    ax0.plot(hist.history['loss'])\n",
    "    ax0.plot(hist.history['val_loss'])\n",
    "    ax0.grid()\n",
    "\n",
    "    ax1.set_title('Acc Plot')\n",
    "    ax1.plot(hist.history['accuracy'])\n",
    "    ax1.plot(hist.history['val_accuracy'])\n",
    "    ax1.grid()\n",
    "\n",
    "    plt.suptitle(f'Loss-Accuracy Plot {name}', fontsize=12, y=1.05)"
   ]
  },
  {
   "cell_type": "code",
   "execution_count": 12,
   "metadata": {},
   "outputs": [
    {
     "data": {
      "image/png": "[encoded data removed]",
      "text/plain": [
       "<Figure size 800x300 with 2 Axes>"
      ]
     },
     "metadata": {},
     "output_type": "display_data"
    }
   ],
   "source": [
    "plot_loss_acc(history, \"Model Gender\")"
   ]
  },
  {
   "cell_type": "code",
   "execution_count": 13,
   "metadata": {},
   "outputs": [
    {
     "data": {
      "image/png": "[encoded data removed]",
      "text/plain": [
       "<Figure size 800x300 with 2 Axes>"
      ]
     },
     "metadata": {},
     "output_type": "display_data"
    }
   ],
   "source": [
    "plot_loss_acc(history_2, \"Model Age\")"
   ]
  },
  {
   "cell_type": "markdown",
   "metadata": {},
   "source": [
    "### Evaluasi Model Pada Test Set"
   ]
  },
  {
   "cell_type": "code",
   "execution_count": 14,
   "metadata": {},
   "outputs": [
    {
     "name": "stdout",
     "output_type": "stream",
     "text": [
      "207/207 [==============================] - 0s 664us/step\n",
      "207/207 [==============================] - 0s 919us/step\n"
     ]
    }
   ],
   "source": [
    "y_gender_probabilities = model_gender.predict(X_test)\n",
    "y_gender_pred = np.argmax(y_gender_probabilities, axis=1)\n",
    "\n",
    "y_age_probabilities = model_age.predict(X_test)\n",
    "y_age_pred = np.argmax(y_age_probabilities, axis=1)"
   ]
  },
  {
   "cell_type": "code",
   "execution_count": 15,
   "metadata": {},
   "outputs": [
    {
     "name": "stdout",
     "output_type": "stream",
     "text": [
      "                   Report Model Gender\n",
      "========================================================\n",
      "              precision    recall  f1-score   support\n",
      "\n",
      "           0       0.93      0.91      0.92      1740\n",
      "           1       0.97      0.97      0.97      4872\n",
      "\n",
      "    accuracy                           0.96      6612\n",
      "   macro avg       0.95      0.94      0.95      6612\n",
      "weighted avg       0.96      0.96      0.96      6612\n",
      "\n",
      "========================================================\n"
     ]
    }
   ],
   "source": [
    "print(\"                   Report Model Gender\")\n",
    "print(\"========================================================\")\n",
    "print(classification_report(y_test_gender.reset_index(drop=True).astype(int), y_gender_pred))\n",
    "print(\"========================================================\")"
   ]
  },
  {
   "cell_type": "code",
   "execution_count": 16,
   "metadata": {},
   "outputs": [],
   "source": [
    "y_test_age_ = []\n",
    "\n",
    "for i in range(len(y_test_age)):\n",
    "    y_test_age_.append(np.argmax(y_test_age[i]))"
   ]
  },
  {
   "cell_type": "code",
   "execution_count": 17,
   "metadata": {},
   "outputs": [
    {
     "name": "stdout",
     "output_type": "stream",
     "text": [
      "                   Report Model Age\n",
      "========================================================\n",
      "              precision    recall  f1-score   support\n",
      "\n",
      "           0       1.00      0.88      0.93        16\n",
      "           1       0.91      0.85      0.87       884\n",
      "           2       0.87      0.79      0.83       933\n",
      "           3       0.90      0.87      0.89       153\n",
      "           4       0.93      0.85      0.89       457\n",
      "           5       0.88      0.59      0.70       470\n",
      "           6       0.75      0.83      0.79      1621\n",
      "           7       0.79      0.86      0.82      2078\n",
      "\n",
      "    accuracy                           0.82      6612\n",
      "   macro avg       0.88      0.81      0.84      6612\n",
      "weighted avg       0.83      0.82      0.82      6612\n",
      "\n",
      "========================================================\n"
     ]
    }
   ],
   "source": [
    "print(\"                   Report Model Age\")\n",
    "print(\"========================================================\")\n",
    "print(classification_report(y_test_age_, y_age_pred))\n",
    "print(\"========================================================\")"
   ]
  },
  {
   "cell_type": "markdown",
   "metadata": {},
   "source": [
    "## Save Model dan Konversi Ke Format TFLite, Serta Optimasi Model\n",
    "\n",
    "Kita hanya akan mengimplementasikan model untuk klasifikasi umur saja, sehingga untuk model klasifikasi gender dapat kita abaikan untuk sementara waktu."
   ]
  },
  {
   "cell_type": "code",
   "execution_count": 18,
   "metadata": {},
   "outputs": [
    {
     "name": "stdout",
     "output_type": "stream",
     "text": [
      "INFO:tensorflow:Assets written to: exp_saved_model\\assets\n"
     ]
    },
    {
     "name": "stderr",
     "output_type": "stream",
     "text": [
      "INFO:tensorflow:Assets written to: exp_saved_model\\assets\n"
     ]
    }
   ],
   "source": [
    "saved_model = \"exp_saved_model\"\n",
    "tf.saved_model.save(model_age, saved_model)"
   ]
  },
  {
   "cell_type": "code",
   "execution_count": 19,
   "metadata": {},
   "outputs": [
    {
     "name": "stderr",
     "output_type": "stream",
     "text": [
      "c:\\Users\\Kevin Putra Santoso\\anaconda3\\envs\\avalon_tensorflow\\lib\\site-packages\\tqdm\\auto.py:21: TqdmWarning: IProgress not found. Please update jupyter and ipywidgets. See https://ipywidgets.readthedocs.io/en/stable/user_install.html\n",
      "  from .autonotebook import tqdm as notebook_tqdm\n"
     ]
    }
   ],
   "source": [
    "import tensorflow_datasets as tfds\n",
    "\n",
    "dataset_dict = {\n",
    "    \"train\": tf.data.Dataset.from_tensor_slices((X_train, y_train_age)),\n",
    "    \"test\": tf.data.Dataset.from_tensor_slices((X_test, y_test_age_))\n",
    "}\n",
    "\n",
    "dataset_dict[\"test\"] = dataset_dict[\"test\"].batch(1)"
   ]
  },
  {
   "cell_type": "code",
   "execution_count": 20,
   "metadata": {},
   "outputs": [],
   "source": [
    "def inference_tflite(X_test, model):\n",
    "    inference_res = []\n",
    "\n",
    "    # Load TFLite model and allocate tensors.\n",
    "    interpreter = tf.lite.Interpreter(model_content=model)\n",
    "    interpreter.allocate_tensors()\n",
    "\n",
    "    # Get input and output tensors.\n",
    "    input_details = interpreter.get_input_details()\n",
    "    output_details = interpreter.get_output_details()\n",
    "\n",
    "    for i in range(len(X_test)):\n",
    "        to_predict = tf.cast(np.array([X_test[i]]), tf.float32)\n",
    "        # print(to_predict)\n",
    "        interpreter.set_tensor(input_details[0]['index'], to_predict)\n",
    "        interpreter.invoke()\n",
    "        tflite_results = interpreter.get_tensor(output_details[0]['index'])\n",
    "        # print(tflite_results)\n",
    "        inference_res.append(np.argmax(tflite_results))\n",
    "    \n",
    "    return inference_res"
   ]
  },
  {
   "cell_type": "code",
   "execution_count": 21,
   "metadata": {},
   "outputs": [],
   "source": [
    "import pathlib\n",
    "\n",
    "converter = tf.lite.TFLiteConverter.from_saved_model(saved_model)\n",
    "converter.optimizations = [tf.lite.Optimize.DEFAULT]\n",
    "\n",
    "def representative_data_gen():\n",
    "    for input_value, _ in dataset_dict[\"test\"].take(100):\n",
    "        yield [tf.cast(input_value, tf.float32)]\n",
    "\n",
    "converter.representative_dataset = representative_data_gen\n",
    "converter.target_spec.supported_ops = [tf.lite.OpsSet.TFLITE_BUILTINS_INT8]\n",
    "\n",
    "tflite_model = converter.convert()\n",
    "tflite_model_file = 'optimized_age_model.tflite'\n",
    "\n",
    "with open(tflite_model_file, \"wb\") as f:\n",
    "    f.write(tflite_model)"
   ]
  },
  {
   "cell_type": "code",
   "execution_count": 22,
   "metadata": {},
   "outputs": [],
   "source": [
    "inference_res_just_opt = inference_tflite(X_test, tflite_model)"
   ]
  },
  {
   "cell_type": "markdown",
   "metadata": {},
   "source": [
    "Kita dapat melihat bahwa model yang awalnya berukuran 441 kilobyte berubah menjadi 116 kilobyte"
   ]
  },
  {
   "cell_type": "code",
   "execution_count": 24,
   "metadata": {},
   "outputs": [
    {
     "name": "stdout",
     "output_type": "stream",
     "text": [
      "Model: \"sequential_1\"\n",
      "_________________________________________________________________\n",
      " Layer (type)                Output Shape              Param #   \n",
      "=================================================================\n",
      " quantize_layer (QuantizeLa  (None, 46)                3         \n",
      " yer)                                                            \n",
      "                                                                 \n",
      " quant_dense_4 (QuantizeWra  (None, 256)               12039     \n",
      " pperV2)                                                         \n",
      "                                                                 \n",
      " quant_dropout_3 (QuantizeW  (None, 256)               1         \n",
      " rapperV2)                                                       \n",
      "                                                                 \n",
      " quant_dense_5 (QuantizeWra  (None, 256)               65799     \n",
      " pperV2)                                                         \n",
      "                                                                 \n",
      " quant_dropout_4 (QuantizeW  (None, 256)               1         \n",
      " rapperV2)                                                       \n",
      "                                                                 \n",
      " quant_dense_6 (QuantizeWra  (None, 128)               32903     \n",
      " pperV2)                                                         \n",
      "                                                                 \n",
      " quant_dropout_5 (QuantizeW  (None, 128)               1         \n",
      " rapperV2)                                                       \n",
      "                                                                 \n",
      " quant_dense_7 (QuantizeWra  (None, 8)                 1037      \n",
      " pperV2)                                                         \n",
      "                                                                 \n",
      "=================================================================\n",
      "Total params: 111784 (436.66 KB)\n",
      "Trainable params: 111752 (436.53 KB)\n",
      "Non-trainable params: 32 (128.00 Byte)\n",
      "_________________________________________________________________\n"
     ]
    }
   ],
   "source": [
    "import tensorflow_model_optimization as tfmot\n",
    "\n",
    "quantize_model = tfmot.quantization.keras.quantize_model\n",
    "\n",
    "q_aware_model = quantize_model(model_age)\n",
    "\n",
    "q_aware_model.compile(optimizer='adam',\n",
    "                      loss='categorical_crossentropy',\n",
    "                      metrics=['accuracy'])\n",
    "\n",
    "q_aware_model.summary()"
   ]
  },
  {
   "cell_type": "code",
   "execution_count": 25,
   "metadata": {},
   "outputs": [
    {
     "name": "stdout",
     "output_type": "stream",
     "text": [
      "Epoch 1/15\n",
      "804/804 [==============================] - 4s 4ms/step - loss: 0.6044 - accuracy: 0.7832 - val_loss: 0.5260 - val_accuracy: 0.8224\n",
      "Epoch 2/15\n",
      "804/804 [==============================] - 3s 4ms/step - loss: 0.6042 - accuracy: 0.7847 - val_loss: 0.5234 - val_accuracy: 0.8221\n",
      "Epoch 3/15\n",
      "804/804 [==============================] - 3s 4ms/step - loss: 0.6022 - accuracy: 0.7864 - val_loss: 0.5208 - val_accuracy: 0.8249\n",
      "Epoch 4/15\n",
      "804/804 [==============================] - 3s 4ms/step - loss: 0.6021 - accuracy: 0.7853 - val_loss: 0.5211 - val_accuracy: 0.8236\n",
      "Epoch 5/15\n",
      "804/804 [==============================] - 3s 4ms/step - loss: 0.5929 - accuracy: 0.7883 - val_loss: 0.5189 - val_accuracy: 0.8266\n",
      "Epoch 6/15\n",
      "804/804 [==============================] - 3s 4ms/step - loss: 0.5946 - accuracy: 0.7864 - val_loss: 0.5220 - val_accuracy: 0.8227\n",
      "Epoch 7/15\n",
      "804/804 [==============================] - 4s 4ms/step - loss: 0.5962 - accuracy: 0.7879 - val_loss: 0.5193 - val_accuracy: 0.8253\n",
      "Epoch 8/15\n",
      "804/804 [==============================] - 3s 4ms/step - loss: 0.5928 - accuracy: 0.7870 - val_loss: 0.5211 - val_accuracy: 0.8231\n",
      "Epoch 9/15\n",
      "804/804 [==============================] - 3s 4ms/step - loss: 0.5936 - accuracy: 0.7872 - val_loss: 0.5169 - val_accuracy: 0.8284\n",
      "Epoch 10/15\n",
      "804/804 [==============================] - 3s 4ms/step - loss: 0.5854 - accuracy: 0.7923 - val_loss: 0.5147 - val_accuracy: 0.8275\n",
      "Epoch 11/15\n",
      "804/804 [==============================] - 3s 4ms/step - loss: 0.5846 - accuracy: 0.7891 - val_loss: 0.5148 - val_accuracy: 0.8269\n",
      "Epoch 12/15\n",
      "804/804 [==============================] - 3s 4ms/step - loss: 0.5861 - accuracy: 0.7899 - val_loss: 0.5098 - val_accuracy: 0.8278\n",
      "Epoch 13/15\n",
      "804/804 [==============================] - 3s 4ms/step - loss: 0.5813 - accuracy: 0.7923 - val_loss: 0.5119 - val_accuracy: 0.8285\n",
      "Epoch 14/15\n",
      "804/804 [==============================] - 3s 4ms/step - loss: 0.5829 - accuracy: 0.7917 - val_loss: 0.5058 - val_accuracy: 0.8279\n",
      "Epoch 15/15\n",
      "804/804 [==============================] - 3s 4ms/step - loss: 0.5784 - accuracy: 0.7926 - val_loss: 0.5077 - val_accuracy: 0.8284\n"
     ]
    }
   ],
   "source": [
    "history_quantized = q_aware_model.fit(X_train, y_train_age, \n",
    "                                     epochs=15, batch_size=64, \n",
    "                                     validation_data=(X_val, y_val_age), \n",
    "                                     callbacks=[earlyStop])"
   ]
  },
  {
   "cell_type": "code",
   "execution_count": 26,
   "metadata": {},
   "outputs": [
    {
     "name": "stdout",
     "output_type": "stream",
     "text": [
      "207/207 [==============================] - 0s 1ms/step\n",
      "                   Report Model Age (Quantized)\n",
      "========================================================\n",
      "              precision    recall  f1-score   support\n",
      "\n",
      "           0       1.00      0.88      0.93        16\n",
      "           1       0.88      0.86      0.87       884\n",
      "           2       0.87      0.80      0.83       933\n",
      "           3       0.93      0.86      0.89       153\n",
      "           4       0.92      0.85      0.88       457\n",
      "           5       0.83      0.66      0.73       470\n",
      "           6       0.78      0.84      0.81      1621\n",
      "           7       0.80      0.85      0.83      2078\n",
      "\n",
      "    accuracy                           0.83      6612\n",
      "   macro avg       0.88      0.82      0.85      6612\n",
      "weighted avg       0.83      0.83      0.83      6612\n",
      "\n",
      "========================================================\n"
     ]
    }
   ],
   "source": [
    "y_age_probabilities_quantized = q_aware_model.predict(X_test)\n",
    "y_age_pred_quantized = np.argmax(y_age_probabilities_quantized, axis=1)\n",
    "\n",
    "print(\"                   Report Model Age (Quantized)\")\n",
    "print(\"========================================================\")\n",
    "print(classification_report(y_test_age_, y_age_pred_quantized))\n",
    "print(\"========================================================\")"
   ]
  },
  {
   "cell_type": "code",
   "execution_count": 27,
   "metadata": {},
   "outputs": [
    {
     "name": "stdout",
     "output_type": "stream",
     "text": [
      "INFO:tensorflow:Assets written to: C:\\Users\\KEVINP~1\\AppData\\Local\\Temp\\tmpj01u06rl\\assets\n"
     ]
    },
    {
     "name": "stderr",
     "output_type": "stream",
     "text": [
      "INFO:tensorflow:Assets written to: C:\\Users\\KEVINP~1\\AppData\\Local\\Temp\\tmpj01u06rl\\assets\n",
      "c:\\Users\\Kevin Putra Santoso\\anaconda3\\envs\\avalon_tensorflow\\lib\\site-packages\\tensorflow\\lite\\python\\convert.py:887: UserWarning: Statistics for quantized inputs were expected, but not specified; continuing anyway.\n",
      "  warnings.warn(\n"
     ]
    }
   ],
   "source": [
    "# Model Hasil Kuantisasi (Tidak termasuk penambahan data representatif)\n",
    "\n",
    "converter = tf.lite.TFLiteConverter.from_keras_model(q_aware_model)\n",
    "converter.optimizations = [tf.lite.Optimize.DEFAULT]\n",
    "\n",
    "quantized_tflite_model = converter.convert()\n",
    "quantized_tflite_model_file = 'optimized-quantized_age_model.tflite'\n",
    "\n",
    "with open(quantized_tflite_model_file, \"wb\") as f:\n",
    "    f.write(quantized_tflite_model)"
   ]
  },
  {
   "cell_type": "code",
   "execution_count": 28,
   "metadata": {},
   "outputs": [],
   "source": [
    "inference_res_opt_quantized_only = inference_tflite(X_test, quantized_tflite_model)"
   ]
  },
  {
   "cell_type": "code",
   "execution_count": 29,
   "metadata": {},
   "outputs": [
    {
     "name": "stdout",
     "output_type": "stream",
     "text": [
      "INFO:tensorflow:Assets written to: C:\\Users\\KEVINP~1\\AppData\\Local\\Temp\\tmpqt8lr4li\\assets\n"
     ]
    },
    {
     "name": "stderr",
     "output_type": "stream",
     "text": [
      "INFO:tensorflow:Assets written to: C:\\Users\\KEVINP~1\\AppData\\Local\\Temp\\tmpqt8lr4li\\assets\n",
      "c:\\Users\\Kevin Putra Santoso\\anaconda3\\envs\\avalon_tensorflow\\lib\\site-packages\\tensorflow\\lite\\python\\convert.py:887: UserWarning: Statistics for quantized inputs were expected, but not specified; continuing anyway.\n",
      "  warnings.warn(\n"
     ]
    }
   ],
   "source": [
    "# Model Hasil Kuantisasi + Penambahan Data Representatif\n",
    "\n",
    "converter = tf.lite.TFLiteConverter.from_keras_model(q_aware_model)\n",
    "converter.optimizations = [tf.lite.Optimize.DEFAULT]\n",
    "\n",
    "converter.representative_dataset = representative_data_gen\n",
    "converter.target_spec.supported_ops = [tf.lite.OpsSet.TFLITE_BUILTINS_INT8]\n",
    "\n",
    "quantized_tflite_model = converter.convert()\n",
    "quantized_tflite_model_file = 'optimized-quantized-repdatagen_age_model.tflite'\n",
    "\n",
    "with open(quantized_tflite_model_file, \"wb\") as f:\n",
    "    f.write(quantized_tflite_model)"
   ]
  },
  {
   "cell_type": "code",
   "execution_count": 30,
   "metadata": {},
   "outputs": [],
   "source": [
    "inference_res_opt_quantized_repdatagen = inference_tflite(X_test, quantized_tflite_model)"
   ]
  },
  {
   "cell_type": "markdown",
   "metadata": {},
   "source": [
    "## Komparasi Hasil Model Teroptimasi (Optimasi, Optimasi-Kuantisasi, Optimasi-Kuantisasi-Repdatagen)"
   ]
  },
  {
   "cell_type": "code",
   "execution_count": 31,
   "metadata": {},
   "outputs": [
    {
     "name": "stdout",
     "output_type": "stream",
     "text": [
      "                   Report Model Age (Optimasi)\n",
      "========================================================\n",
      "              precision    recall  f1-score   support\n",
      "\n",
      "           0       1.00      0.88      0.93        16\n",
      "           1       0.90      0.85      0.87       884\n",
      "           2       0.85      0.79      0.82       933\n",
      "           3       0.91      0.88      0.89       153\n",
      "           4       0.94      0.85      0.89       457\n",
      "           5       0.86      0.60      0.71       470\n",
      "           6       0.75      0.84      0.79      1621\n",
      "           7       0.80      0.84      0.82      2078\n",
      "\n",
      "    accuracy                           0.82      6612\n",
      "   macro avg       0.87      0.82      0.84      6612\n",
      "weighted avg       0.82      0.82      0.82      6612\n",
      "\n",
      "========================================================\n"
     ]
    }
   ],
   "source": [
    "print(\"                   Report Model Age (Optimasi)\")\n",
    "print(\"========================================================\")\n",
    "print(classification_report(y_test_age_, inference_res_just_opt))\n",
    "print(\"========================================================\")"
   ]
  },
  {
   "cell_type": "code",
   "execution_count": 33,
   "metadata": {},
   "outputs": [
    {
     "name": "stdout",
     "output_type": "stream",
     "text": [
      "            Report Model Age (Optimasi-Kuantisasi)\n",
      "========================================================\n",
      "              precision    recall  f1-score   support\n",
      "\n",
      "           0       1.00      0.88      0.93        16\n",
      "           1       0.87      0.86      0.87       884\n",
      "           2       0.87      0.80      0.83       933\n",
      "           3       0.93      0.86      0.89       153\n",
      "           4       0.92      0.85      0.88       457\n",
      "           5       0.83      0.66      0.73       470\n",
      "           6       0.78      0.84      0.81      1621\n",
      "           7       0.80      0.85      0.83      2078\n",
      "\n",
      "    accuracy                           0.83      6612\n",
      "   macro avg       0.88      0.82      0.85      6612\n",
      "weighted avg       0.83      0.83      0.83      6612\n",
      "\n",
      "========================================================\n"
     ]
    }
   ],
   "source": [
    "print(\"            Report Model Age (Optimasi-Kuantisasi)\")\n",
    "print(\"========================================================\")\n",
    "print(classification_report(y_test_age_, inference_res_opt_quantized_only))\n",
    "print(\"========================================================\")"
   ]
  },
  {
   "cell_type": "code",
   "execution_count": 34,
   "metadata": {},
   "outputs": [
    {
     "name": "stdout",
     "output_type": "stream",
     "text": [
      "   Report Model Age (Optimasi-Kuantisasi-Repdatagen)\n",
      "========================================================\n",
      "              precision    recall  f1-score   support\n",
      "\n",
      "           0       1.00      0.88      0.93        16\n",
      "           1       0.87      0.86      0.87       884\n",
      "           2       0.87      0.80      0.83       933\n",
      "           3       0.93      0.86      0.89       153\n",
      "           4       0.92      0.85      0.88       457\n",
      "           5       0.83      0.66      0.73       470\n",
      "           6       0.78      0.84      0.81      1621\n",
      "           7       0.80      0.85      0.83      2078\n",
      "\n",
      "    accuracy                           0.83      6612\n",
      "   macro avg       0.88      0.82      0.85      6612\n",
      "weighted avg       0.83      0.83      0.83      6612\n",
      "\n",
      "========================================================\n"
     ]
    }
   ],
   "source": [
    "print(\"   Report Model Age (Optimasi-Kuantisasi-Repdatagen)\")\n",
    "print(\"========================================================\")\n",
    "print(classification_report(y_test_age_, inference_res_opt_quantized_repdatagen))\n",
    "print(\"========================================================\")"
   ]
  }
 ],
 "metadata": {
  "kernelspec": {
   "display_name": "avalon_tensorflow",
   "language": "python",
   "name": "python3"
  },
  "language_info": {
   "codemirror_mode": {
    "name": "ipython",
    "version": 3
   },
   "file_extension": ".py",
   "mimetype": "text/x-python",
   "name": "python",
   "nbconvert_exporter": "python",
   "pygments_lexer": "ipython3",
   "version": "3.8.17"
  },
  "orig_nbformat": 4
 },
 "nbformat": 4,
 "nbformat_minor": 2
}
